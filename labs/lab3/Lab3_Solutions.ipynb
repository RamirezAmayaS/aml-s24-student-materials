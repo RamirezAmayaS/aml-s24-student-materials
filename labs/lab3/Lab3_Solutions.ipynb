{
 "cells": [
  {
   "cell_type": "markdown",
   "metadata": {},
   "source": [
    "# Lab 3 - Computational Efficiency in numpy\n",
    "- **Author:** Suraj R. Nair ([suraj.nair@berkeley.edu](suraj.nair@berkeley.edu)) (based on Emily Aiken, Qutub Khan Vajihi and Dimitris Papadimitriou's Labs)\n",
    "- **Date:** 31st January, 2024\n",
    "- **Course:** INFO 251: Applied Machine Learning"
   ]
  },
  {
   "cell_type": "markdown",
   "metadata": {},
   "source": [
    "### Learning Objectives:\n",
    "By the end of the lab, you will be able to:\n",
    "\n",
    "* Use key numpy functions for matrix creation and manipulation\n",
    "* Use vectorization for defining complex matrix operations\n",
    "* Understand the trade-offs between 'for' loops and vectorized computation"
   ]
  },
  {
   "cell_type": "markdown",
   "metadata": {},
   "source": [
    "### References:\n",
    "* [Vectorized Operations](https://www.pythonlikeyoumeanit.com/Module3_IntroducingNumpy/VectorizedOperations.html)\n",
    "* [Broadcasting in Numpy](https://numpy.org/doc/stable/user/basics.broadcasting.html)\n",
    "* [Numpy tutorial](https://github.com/rougier/numpy-tutorial)"
   ]
  },
  {
   "cell_type": "markdown",
   "metadata": {},
   "source": [
    "## I. Introduction to numpy"
   ]
  },
  {
   "cell_type": "code",
   "execution_count": 2,
   "metadata": {},
   "outputs": [],
   "source": [
    "import numpy as np\n",
    "import pandas as pd\n",
    "import time\n",
    "\n",
    "import matplotlib.pyplot as plt\n",
    "from mpl_toolkits.mplot3d import Axes3D\n",
    "from matplotlib import cm\n",
    "from matplotlib.ticker import LinearLocator, FormatStrFormatter\n",
    "%matplotlib inline"
   ]
  },
  {
   "cell_type": "markdown",
   "metadata": {},
   "source": [
    "#### Tuples vs. lists vs. arrays vs. matrices"
   ]
  },
  {
   "cell_type": "code",
   "execution_count": 3,
   "metadata": {},
   "outputs": [
    {
     "data": {
      "text/plain": [
       "(1, 2, 3)"
      ]
     },
     "execution_count": 3,
     "metadata": {},
     "output_type": "execute_result"
    }
   ],
   "source": [
    "# Tuple\n",
    "tup = (1, 2, 3)\n",
    "tup"
   ]
  },
  {
   "cell_type": "code",
   "execution_count": 4,
   "metadata": {},
   "outputs": [
    {
     "data": {
      "text/plain": [
       "[1, 2, 3, 'AML', 465.0]"
      ]
     },
     "execution_count": 4,
     "metadata": {},
     "output_type": "execute_result"
    }
   ],
   "source": [
    "# List\n",
    "lst = [1, 2, 3, \"AML\", 465.0]\n",
    "lst"
   ]
  },
  {
   "cell_type": "code",
   "execution_count": 5,
   "metadata": {},
   "outputs": [
    {
     "data": {
      "text/plain": [
       "array([1, 2, 3])"
      ]
     },
     "execution_count": 5,
     "metadata": {},
     "output_type": "execute_result"
    }
   ],
   "source": [
    "# Array\n",
    "arr = np.array(tup)\n",
    "arr"
   ]
  },
  {
   "cell_type": "code",
   "execution_count": 6,
   "metadata": {},
   "outputs": [
    {
     "data": {
      "text/plain": [
       "array([[1, 2, 3],\n",
       "       [4, 5, 6]])"
      ]
     },
     "execution_count": 6,
     "metadata": {},
     "output_type": "execute_result"
    }
   ],
   "source": [
    "# 2D Matrix\n",
    "mat = np.array([[1, 2, 3], [4, 5, 6]])\n",
    "mat"
   ]
  },
  {
   "cell_type": "markdown",
   "metadata": {},
   "source": [
    "#### Dimensions"
   ]
  },
  {
   "cell_type": "code",
   "execution_count": 7,
   "metadata": {},
   "outputs": [
    {
     "data": {
      "text/plain": [
       "(2, 3)"
      ]
     },
     "execution_count": 7,
     "metadata": {},
     "output_type": "execute_result"
    }
   ],
   "source": [
    "mat.shape"
   ]
  },
  {
   "cell_type": "code",
   "execution_count": 8,
   "metadata": {},
   "outputs": [
    {
     "data": {
      "text/plain": [
       "2"
      ]
     },
     "execution_count": 8,
     "metadata": {},
     "output_type": "execute_result"
    }
   ],
   "source": [
    "mat.ndim"
   ]
  },
  {
   "cell_type": "markdown",
   "metadata": {},
   "source": [
    "#### Array manipulation"
   ]
  },
  {
   "cell_type": "code",
   "execution_count": 9,
   "metadata": {},
   "outputs": [],
   "source": [
    "arr = np.array([1, 2, 3, 4, 5, 7, 9, 11])"
   ]
  },
  {
   "cell_type": "code",
   "execution_count": 10,
   "metadata": {},
   "outputs": [
    {
     "name": "stdout",
     "output_type": "stream",
     "text": [
      "(8,)\n"
     ]
    }
   ],
   "source": [
    "print(arr.shape)"
   ]
  },
  {
   "cell_type": "code",
   "execution_count": 11,
   "metadata": {},
   "outputs": [
    {
     "data": {
      "text/plain": [
       "array([[ 1,  2,  3,  4],\n",
       "       [ 5,  7,  9, 11]])"
      ]
     },
     "execution_count": 11,
     "metadata": {},
     "output_type": "execute_result"
    }
   ],
   "source": [
    "#cast to 2D\n",
    "arr.reshape(2, 4)"
   ]
  },
  {
   "cell_type": "code",
   "execution_count": 12,
   "metadata": {},
   "outputs": [
    {
     "data": {
      "text/plain": [
       "array([[[ 1,  2],\n",
       "        [ 3,  4]],\n",
       "\n",
       "       [[ 5,  7],\n",
       "        [ 9, 11]]])"
      ]
     },
     "execution_count": 12,
     "metadata": {},
     "output_type": "execute_result"
    }
   ],
   "source": [
    "#cast to 3D\n",
    "arr.reshape(2, 2, 2)"
   ]
  },
  {
   "cell_type": "code",
   "execution_count": 13,
   "metadata": {},
   "outputs": [
    {
     "name": "stdout",
     "output_type": "stream",
     "text": [
      "(2, 3)\n"
     ]
    },
    {
     "data": {
      "text/plain": [
       "array([1, 2, 3, 4, 5, 6])"
      ]
     },
     "execution_count": 13,
     "metadata": {},
     "output_type": "execute_result"
    }
   ],
   "source": [
    "#create 2D Matrix\n",
    "arr = np.array([[1, 2, 3], [4, 5, 6]])\n",
    "\n",
    "print(arr.shape)\n",
    "#Cast to 1D\n",
    "arr.reshape(-1)"
   ]
  },
  {
   "cell_type": "code",
   "execution_count": 14,
   "metadata": {},
   "outputs": [
    {
     "data": {
      "text/plain": [
       "array([1, 2, 3, 4, 5, 6])"
      ]
     },
     "execution_count": 14,
     "metadata": {},
     "output_type": "execute_result"
    }
   ],
   "source": [
    "#Other ways to do this:\n",
    "\n",
    "arr.flatten()"
   ]
  },
  {
   "cell_type": "code",
   "execution_count": 15,
   "metadata": {},
   "outputs": [
    {
     "data": {
      "text/plain": [
       "array([1, 2, 3, 4, 5, 6])"
      ]
     },
     "execution_count": 15,
     "metadata": {},
     "output_type": "execute_result"
    }
   ],
   "source": [
    "arr.ravel()"
   ]
  },
  {
   "cell_type": "code",
   "execution_count": 16,
   "metadata": {},
   "outputs": [
    {
     "name": "stdout",
     "output_type": "stream",
     "text": [
      "[[1 2 3]\n",
      " [4 5 6]]\n",
      "\n",
      "[[1 2]\n",
      " [3 4]\n",
      " [5 6]]\n"
     ]
    }
   ],
   "source": [
    "#Change dimensions of a 2 D matrix:\n",
    "arr = np.array([[1, 2, 3], [4, 5, 6]])\n",
    "new_arr = arr.reshape(3, 2)\n",
    "print(arr, new_arr, sep = \"\\n\\n\")"
   ]
  },
  {
   "cell_type": "markdown",
   "metadata": {},
   "source": [
    "#### Useful numpy functions"
   ]
  },
  {
   "cell_type": "code",
   "execution_count": 17,
   "metadata": {},
   "outputs": [
    {
     "data": {
      "text/plain": [
       "array([0, 1, 2, 3, 4, 5, 6, 7, 8, 9])"
      ]
     },
     "execution_count": 17,
     "metadata": {},
     "output_type": "execute_result"
    }
   ],
   "source": [
    "# Arrange - https://numpy.org/doc/stable/reference/generated/numpy.arange.html\n",
    "np.arange(0, 10, 1)"
   ]
  },
  {
   "cell_type": "code",
   "execution_count": 18,
   "metadata": {},
   "outputs": [
    {
     "data": {
      "text/plain": [
       "array([0., 1., 2., 3., 4., 5., 6., 7., 8., 9.])"
      ]
     },
     "execution_count": 18,
     "metadata": {},
     "output_type": "execute_result"
    }
   ],
   "source": [
    "# Linspace - https://numpy.org/doc/stable/reference/generated/numpy.linspace.html\n",
    "np.linspace(0, 10, 10, endpoint=False)"
   ]
  },
  {
   "cell_type": "code",
   "execution_count": 19,
   "metadata": {},
   "outputs": [
    {
     "data": {
      "text/plain": [
       "array([  1.,   2.,   4.,   8.,  16.,  32.,  64., 128., 256., 512.])"
      ]
     },
     "execution_count": 19,
     "metadata": {},
     "output_type": "execute_result"
    }
   ],
   "source": [
    "# Logspace - https://numpy.org/doc/stable/reference/generated/numpy.logspace.html\n",
    "np.logspace(0, 10, 10, endpoint=False, base=2)"
   ]
  },
  {
   "cell_type": "code",
   "execution_count": 20,
   "metadata": {},
   "outputs": [
    {
     "data": {
      "text/plain": [
       "array([0., 0., 0., 0., 0.])"
      ]
     },
     "execution_count": 20,
     "metadata": {},
     "output_type": "execute_result"
    }
   ],
   "source": [
    "# Zeros - https://numpy.org/doc/stable/reference/generated/numpy.zeros.html\n",
    "np.zeros(5)"
   ]
  },
  {
   "cell_type": "code",
   "execution_count": 21,
   "metadata": {},
   "outputs": [
    {
     "data": {
      "text/plain": [
       "array([1., 1., 1., 1., 1.])"
      ]
     },
     "execution_count": 21,
     "metadata": {},
     "output_type": "execute_result"
    }
   ],
   "source": [
    "# Ones - https://numpy.org/doc/stable/reference/generated/numpy.ones.html\n",
    "np.ones(5)"
   ]
  },
  {
   "cell_type": "code",
   "execution_count": 22,
   "metadata": {},
   "outputs": [
    {
     "data": {
      "text/plain": [
       "array([12, 12, 12, 12, 12])"
      ]
     },
     "execution_count": 22,
     "metadata": {},
     "output_type": "execute_result"
    }
   ],
   "source": [
    "# Full - https://docs.scipy.org/doc/numpy-1.13.0/reference/generated/numpy.full.html\n",
    "np.full(5, 12)"
   ]
  },
  {
   "cell_type": "code",
   "execution_count": 23,
   "metadata": {},
   "outputs": [
    {
     "name": "stdout",
     "output_type": "stream",
     "text": [
      "[array([[0, 1, 2, 3, 4],\n",
      "       [0, 1, 2, 3, 4],\n",
      "       [0, 1, 2, 3, 4],\n",
      "       [0, 1, 2, 3, 4],\n",
      "       [0, 1, 2, 3, 4]]), array([[0, 0, 0, 0, 0],\n",
      "       [1, 1, 1, 1, 1],\n",
      "       [2, 2, 2, 2, 2],\n",
      "       [3, 3, 3, 3, 3],\n",
      "       [4, 4, 4, 4, 4]])]\n"
     ]
    },
    {
     "data": {
      "image/png": "[encoded data removed]",
      "text/plain": [
       "<Figure size 640x480 with 1 Axes>"
      ]
     },
     "metadata": {},
     "output_type": "display_data"
    }
   ],
   "source": [
    "# Meshgrid - https://numpy.org/doc/stable/reference/generated/numpy.meshgrid.html\n",
    "xvalues = np.array([0, 1, 2, 3, 4]);\n",
    "yvalues = np.array([0, 1, 2, 3, 4]);\n",
    "print(np.meshgrid(xvalues, yvalues))\n",
    "xx, yy = np.meshgrid(xvalues, yvalues)\n",
    "plt.plot(xx, yy, marker='.', color='k', linestyle='none');"
   ]
  },
  {
   "cell_type": "markdown",
   "metadata": {},
   "source": [
    "#### Useful numpy functions - matrix manipulation"
   ]
  },
  {
   "cell_type": "code",
   "execution_count": 24,
   "metadata": {},
   "outputs": [
    {
     "name": "stdout",
     "output_type": "stream",
     "text": [
      "[[1 2 3]\n",
      " [1 2 3]]\n",
      "\n",
      "[[5 6 7]\n",
      " [5 6 7]]\n"
     ]
    },
    {
     "data": {
      "text/plain": [
       "array([[1, 2, 3],\n",
       "       [1, 2, 3],\n",
       "       [5, 6, 7],\n",
       "       [5, 6, 7]])"
      ]
     },
     "execution_count": 24,
     "metadata": {},
     "output_type": "execute_result"
    }
   ],
   "source": [
    "# Vstack - https://numpy.org/doc/stable/reference/generated/numpy.vstack.html\n",
    "matrix1 = np.array([[1, 2, 3], [1, 2, 3]])\n",
    "matrix2 = np.array([[5, 6, 7], [5, 6, 7]])\n",
    "print(matrix1, matrix2, sep = \"\\n\\n\")\n",
    "\n",
    "np.vstack([matrix1, matrix2]) # 2D arrays must have the same 2nd dimension (number of columns)"
   ]
  },
  {
   "cell_type": "code",
   "execution_count": 25,
   "metadata": {},
   "outputs": [
    {
     "name": "stdout",
     "output_type": "stream",
     "text": [
      "[[1 2 3]\n",
      " [1 2 3]]\n",
      "\n",
      "[[5 6 7]\n",
      " [5 6 7]]\n"
     ]
    },
    {
     "data": {
      "text/plain": [
       "array([[1, 2, 3, 5, 6, 7],\n",
       "       [1, 2, 3, 5, 6, 7]])"
      ]
     },
     "execution_count": 25,
     "metadata": {},
     "output_type": "execute_result"
    }
   ],
   "source": [
    "# Hstack - https://numpy.org/doc/stable/reference/generated/numpy.hstack.html\n",
    "matrix1 = np.array([[1, 2, 3], \n",
    "                    [1, 2, 3]])\n",
    "\n",
    "matrix2 = np.array([[5, 6, 7], \n",
    "                    [5, 6, 7]])\n",
    "\n",
    "print(matrix1, matrix2, sep = \"\\n\\n\")\n",
    "\n",
    "np.hstack([matrix1, matrix2]) # 2D arrays must have the same 1st dimension (number of rows)"
   ]
  },
  {
   "cell_type": "code",
   "execution_count": 26,
   "metadata": {},
   "outputs": [
    {
     "data": {
      "text/plain": [
       "array([[1, 1, 1],\n",
       "       [2, 2, 2],\n",
       "       [2, 2, 2],\n",
       "       [2, 2, 2],\n",
       "       [3, 3, 3],\n",
       "       [3, 3, 3]])"
      ]
     },
     "execution_count": 26,
     "metadata": {},
     "output_type": "execute_result"
    }
   ],
   "source": [
    "# Concatenate - https://numpy.org/doc/stable/reference/generated/numpy.concatenate.html\n",
    "matrix1 = np.array([[1, 1, 1]])\n",
    "matrix2 = np.array([[2, 2, 2], [2, 2, 2], [2, 2, 2]])\n",
    "matrix3 = np.array([[3, 3, 3], [3, 3, 3]])\n",
    "\n",
    "# Arrays must have the same dimensions except for the concatenation axis\n",
    "np.concatenate([matrix1, matrix2, matrix3], axis=0) "
   ]
  },
  {
   "cell_type": "code",
   "execution_count": 27,
   "metadata": {},
   "outputs": [
    {
     "name": "stdout",
     "output_type": "stream",
     "text": [
      "[[1 2 3]\n",
      " [4 5 6]]\n",
      "\n",
      "[[1 4]\n",
      " [2 5]\n",
      " [3 6]]\n"
     ]
    }
   ],
   "source": [
    "# Transpose - https://numpy.org/doc/stable/reference/generated/numpy.transpose.html\n",
    "mat = np.array([[1, 2, 3], [4, 5, 6]])\n",
    "print(mat, mat.T, sep = \"\\n\\n\")"
   ]
  },
  {
   "cell_type": "markdown",
   "metadata": {},
   "source": [
    "## II. Matrix Operations and Broadcasting"
   ]
  },
  {
   "cell_type": "markdown",
   "metadata": {},
   "source": [
    "#### Matrix addition"
   ]
  },
  {
   "cell_type": "code",
   "execution_count": 28,
   "metadata": {},
   "outputs": [
    {
     "name": "stdout",
     "output_type": "stream",
     "text": [
      "[[1 1 1]\n",
      " [2 2 2]]\n",
      "----\n",
      "[[2 2 2]\n",
      " [3 3 3]]\n"
     ]
    }
   ],
   "source": [
    "# Addition and subtraction -- adding a constant\n",
    "arr = np.array([[1, 1, 1], [2, 2, 2]])\n",
    "print(arr)\n",
    "print('----')\n",
    "print(arr + 1)"
   ]
  },
  {
   "cell_type": "code",
   "execution_count": 29,
   "metadata": {},
   "outputs": [
    {
     "data": {
      "text/plain": [
       "array([[3, 3, 3],\n",
       "       [4, 6, 8]])"
      ]
     },
     "execution_count": 29,
     "metadata": {},
     "output_type": "execute_result"
    }
   ],
   "source": [
    "# Addition and subtraction -- element-wise\n",
    "arr1 = np.array([[1, 1, 1], [1, 2, 3]])\n",
    "arr2 = np.array([[2, 2, 2], [3, 4, 5]])\n",
    "arr1 + arr2"
   ]
  },
  {
   "cell_type": "code",
   "execution_count": 30,
   "metadata": {},
   "outputs": [
    {
     "name": "stdout",
     "output_type": "stream",
     "text": [
      "(2, 3) (3, 3)\n"
     ]
    }
   ],
   "source": [
    "a = np.array([[1, 2, 4], [6, 7, 8]])\n",
    "b = np.array([[1, 2, 4], [6, 7, 8], [1, 2, 4]])\n",
    "\n",
    "print(a.shape, b.shape)"
   ]
  },
  {
   "cell_type": "code",
   "execution_count": 31,
   "metadata": {},
   "outputs": [
    {
     "data": {
      "text/plain": [
       "array([[2, 2, 3],\n",
       "       [2, 3, 5]])"
      ]
     },
     "execution_count": 31,
     "metadata": {},
     "output_type": "execute_result"
    }
   ],
   "source": [
    "# Addition and subtraction - broadcasting\n",
    "arr1 = np.array([[1, 1, 1], [1, 2, 3]])\n",
    "arr2 = np.array([1, 1, 2])\n",
    "arr1 + arr2"
   ]
  },
  {
   "cell_type": "markdown",
   "metadata": {},
   "source": [
    "<img src=\"Images/Br1.png\" width=700 height=700 />"
   ]
  },
  {
   "cell_type": "code",
   "execution_count": 32,
   "metadata": {},
   "outputs": [
    {
     "data": {
      "text/plain": [
       "array([[ 0,  1,  2],\n",
       "       [10, 11, 12],\n",
       "       [20, 21, 22],\n",
       "       [30, 31, 32]])"
      ]
     },
     "execution_count": 32,
     "metadata": {},
     "output_type": "execute_result"
    }
   ],
   "source": [
    "# Key rule for broadcasting: the size of the \"trailing axes\" must be the same (or one must be 1)\n",
    "arr1 = np.array([0, 10, 20, 30]).reshape(4, 1)\n",
    "arr2 = np.array([0, 1, 2]).reshape(1, 3)\n",
    "arr1 + arr2"
   ]
  },
  {
   "cell_type": "markdown",
   "metadata": {},
   "source": [
    "#### Matrix multiplication"
   ]
  },
  {
   "cell_type": "code",
   "execution_count": 33,
   "metadata": {},
   "outputs": [
    {
     "data": {
      "text/plain": [
       "array([[ 20,  40,  60],\n",
       "       [100, 120, 140]])"
      ]
     },
     "execution_count": 33,
     "metadata": {},
     "output_type": "execute_result"
    }
   ],
   "source": [
    "# Multiplication by a constant\n",
    "arr = np.array([[10, 20, 30], [50, 60, 70]])\n",
    "arr*2"
   ]
  },
  {
   "cell_type": "markdown",
   "metadata": {},
   "source": [
    "<img src=\"Images/Hadamard.png\" width=700 height=700/>"
   ]
  },
  {
   "cell_type": "code",
   "execution_count": 34,
   "metadata": {},
   "outputs": [
    {
     "data": {
      "text/plain": [
       "array([[ 3, 30, 21],\n",
       "       [ 0, 18, 72]])"
      ]
     },
     "execution_count": 34,
     "metadata": {},
     "output_type": "execute_result"
    }
   ],
   "source": [
    "# Element-wise multiplication (Hadamard product)\n",
    "arr1 = np.array([[3, 5, 7], \n",
    "                 [4, 9, 8]])\n",
    "\n",
    "arr2 = np.array([[1, 6, 3], \n",
    "                 [0, 2, 9]])\n",
    "\n",
    "np.multiply(arr1, arr2)"
   ]
  },
  {
   "cell_type": "markdown",
   "metadata": {},
   "source": [
    "<img src=\"Images/DotProduct.svg\" width=700 height=700/>"
   ]
  },
  {
   "cell_type": "markdown",
   "metadata": {},
   "source": [
    "Does the matrix multiplication in the next block work? Why/ why not?"
   ]
  },
  {
   "cell_type": "code",
   "execution_count": 36,
   "metadata": {},
   "outputs": [],
   "source": [
    "# Dot product\n",
    "arr1 = np.array([[3, 5, 7], \n",
    "                 [4, 9, 8]])\n",
    "\n",
    "arr2 = np.array([[1, 6, 3], \n",
    "                 [0, 2, 9]])\n",
    "\n",
    "np.dot(arr1, arr2) "
   ]
  },
  {
   "cell_type": "markdown",
   "metadata": {},
   "source": [
    "What about this one?"
   ]
  },
  {
   "cell_type": "code",
   "execution_count": 37,
   "metadata": {},
   "outputs": [
    {
     "data": {
      "text/plain": [
       "array([[ 58,  64],\n",
       "       [139, 154]])"
      ]
     },
     "execution_count": 37,
     "metadata": {},
     "output_type": "execute_result"
    }
   ],
   "source": [
    "arr1 = np.array([[1, 2, 3], \n",
    "        [4, 5, 6]])\n",
    "\n",
    "arr2 = np.array([[7, 8], \n",
    "        [9, 10], \n",
    "        [11, 12]])\n",
    "\n",
    "\n",
    "assert arr1.shape[1] == arr2.shape[0], \"No. of columns in matrix 1 != No. of rows in matrix 2\"\n",
    "\n",
    "np.dot(arr1, arr2) # Key for dot product: First dimension of matrix 1 same as second dimension of matrix 2"
   ]
  },
  {
   "cell_type": "markdown",
   "metadata": {},
   "source": [
    "## III. Vectorized Computation"
   ]
  },
  {
   "cell_type": "markdown",
   "metadata": {},
   "source": [
    "#### Example 1: Taking the sum of all integers between 1 and 10,000 using a for loop. "
   ]
  },
  {
   "cell_type": "code",
   "execution_count": 42,
   "metadata": {},
   "outputs": [
    {
     "name": "stdout",
     "output_type": "stream",
     "text": [
      "The result is 49995000 computed in 0.008321762084960938 seconds\n"
     ]
    }
   ],
   "source": [
    "t_start = time.time()\n",
    "\n",
    "## TODO: Write a for loop to calculate the sum. store your results in a variable called total\n",
    "total = 0\n",
    "for i in np.arange(1, 10000):\n",
    "    total += i\n",
    "\n",
    "t1 = time.time() - t_start\n",
    "print(f'The result is {total} computed in {t1} seconds')"
   ]
  },
  {
   "cell_type": "markdown",
   "metadata": {},
   "source": [
    "Not too bad, right? Lets try the same operation using NumPy!"
   ]
  },
  {
   "cell_type": "code",
   "execution_count": 44,
   "metadata": {},
   "outputs": [
    {
     "name": "stdout",
     "output_type": "stream",
     "text": [
      "The result is 49995000.0 computed in 0.0 seconds\n"
     ]
    }
   ],
   "source": [
    "t_start = time.time()\n",
    "\n",
    "# TODO: Write the same function as above, but this time with numpy. Store you results in a variable called total\n",
    "total = np.sum(np.arange(1, 10000.0))\n",
    "\n",
    "t2 = time.time() - t_start\n",
    "print(f'The result is {total} computed in {t2} seconds')"
   ]
  },
  {
   "cell_type": "markdown",
   "metadata": {},
   "source": [
    "#### Example 2: Element-wise multiplication"
   ]
  },
  {
   "cell_type": "code",
   "execution_count": 48,
   "metadata": {},
   "outputs": [],
   "source": [
    "x = np.arange(0, 100000.0, 1)\n",
    "y = np.arange(0, 100000.0, 1)"
   ]
  },
  {
   "cell_type": "code",
   "execution_count": 49,
   "metadata": {},
   "outputs": [
    {
     "name": "stdout",
     "output_type": "stream",
     "text": [
      "The result is 333328333350000 computed in 0.041 seconds\n"
     ]
    }
   ],
   "source": [
    "def sum_product(x, y):\n",
    "    \"\"\"Return the sum of x[i] * y[i] for all indices.\n",
    "    \"\"\"\n",
    "    # using for loop here\n",
    "    s = 0\n",
    "    for i in range(len(x)):\n",
    "        s += x[i] * y[i]\n",
    "    return s\n",
    "\n",
    "t_start = time.time()\n",
    "\n",
    "r = sum_product(x, y)\n",
    "\n",
    "t_end = time.time()\n",
    "t1 = t_end - t_start\n",
    "print(f'The result is {r:.0f} computed in {t1:.3f} seconds')"
   ]
  },
  {
   "cell_type": "markdown",
   "metadata": {},
   "source": [
    "Let's do the same thing, but using numpy"
   ]
  },
  {
   "cell_type": "code",
   "execution_count": 50,
   "metadata": {},
   "outputs": [
    {
     "name": "stdout",
     "output_type": "stream",
     "text": [
      "The result is 333328333350000 computed in 0.008 seconds\n"
     ]
    }
   ],
   "source": [
    "t_start = time.time()\n",
    "\n",
    "# ADD YOUR CODE HERE:\n",
    "r = np.sum(x*y)\n",
    "\n",
    "t_end = time.time()\n",
    "t2 = t_end - t_start\n",
    "print(f'The result is {r:.0f} computed in {t2:.3f} seconds')"
   ]
  },
  {
   "cell_type": "code",
   "execution_count": 51,
   "metadata": {},
   "outputs": [
    {
     "name": "stdout",
     "output_type": "stream",
     "text": [
      "5.1 times faster\n"
     ]
    }
   ],
   "source": [
    "print(f\"{t1 / (t2):.1f} times faster\")"
   ]
  },
  {
   "cell_type": "markdown",
   "metadata": {},
   "source": [
    "#### Example 3: Maximizing a complex function\n",
    "\n",
    "We want to maximize a function $f$ of two variables $(x,y)$:  $f(x, y) = \\frac{cos(x^2 + y^2)}{1 + x^2 + y^2}$\n",
    "\n",
    "To maximize it, we’re going to use a naive grid search:\n",
    "1. Evaluate $f$ for all $(x,y)$ in a grid on the square\n",
    "2. Return the maximum of observed values"
   ]
  },
  {
   "cell_type": "code",
   "execution_count": 52,
   "metadata": {},
   "outputs": [],
   "source": [
    "# The function\n",
    "def f(x, y):\n",
    "    return np.cos(x**2 + y**2) / (1 + x**2 + y**2)"
   ]
  },
  {
   "cell_type": "code",
   "execution_count": 53,
   "metadata": {},
   "outputs": [],
   "source": [
    "# Make a mesh grid for our grid search\n",
    "X = np.arange(-5, 5, 0.1)\n",
    "Y = np.arange(-5, 5, 0.1)\n",
    "X, Y = np.meshgrid(X, Y)\n",
    "\n",
    "# Get the values of z at each point in the mesh grid\n",
    "Z = f(X, Y)"
   ]
  },
  {
   "cell_type": "code",
   "execution_count": 54,
   "metadata": {},
   "outputs": [
    {
     "data": {
      "image/png": "[encoded data removed]",
      "text/plain": [
       "<Figure size 1000x700 with 1 Axes>"
      ]
     },
     "metadata": {},
     "output_type": "display_data"
    }
   ],
   "source": [
    "# Create a figure\n",
    "fig = plt.figure(figsize=(10,7))\n",
    "ax = fig.add_subplot(projection='3d')\n",
    "\n",
    "# Plot the surface.\n",
    "surf = ax.plot_surface(X, Y, Z, facecolors=cm.jet(Z),\n",
    "                       linewidth=0, antialiased=False, shade=False)\n",
    "\n",
    "# Customize the z axis.\n",
    "ax.set_zlim(-0.4, 1.01)\n",
    "ax.zaxis.set_major_locator(LinearLocator(10))\n",
    "ax.zaxis.set_major_formatter(FormatStrFormatter('%.02f'))\n",
    "plt.show()"
   ]
  },
  {
   "cell_type": "markdown",
   "metadata": {},
   "source": [
    "Maximizing the function using for loopss:"
   ]
  },
  {
   "cell_type": "code",
   "execution_count": 55,
   "metadata": {},
   "outputs": [
    {
     "name": "stdout",
     "output_type": "stream",
     "text": [
      "The maximum value observed is: 1.0\n",
      "Time: 0.01829s\n"
     ]
    }
   ],
   "source": [
    "X = np.arange(-5, 5, 0.2)\n",
    "Y = np.arange(-5, 5, 0.1)\n",
    "m = -np.inf\n",
    "\n",
    "t_start = time.time()\n",
    "\n",
    "for x in X:\n",
    "    for y in Y:\n",
    "        ## YOUR CODE HERE\n",
    "        z = f(x, y)\n",
    "        if z > m:\n",
    "            m = z          \n",
    "            \n",
    "print('The maximum value observed is:',m)\n",
    "t_end = time.time()\n",
    "t1 = t_end - t_start\n",
    "print(\"Time: {:.5f}s\".format(t1))"
   ]
  },
  {
   "cell_type": "markdown",
   "metadata": {},
   "source": [
    "Maximizing the function using numpy:"
   ]
  },
  {
   "cell_type": "code",
   "execution_count": 56,
   "metadata": {},
   "outputs": [
    {
     "name": "stdout",
     "output_type": "stream",
     "text": [
      "The maximum value observed is: 1.0\n",
      "Time: 0.00000s\n"
     ]
    }
   ],
   "source": [
    "t_start = time.time()\n",
    "# Write the same function using numpy\n",
    "x, y = np.meshgrid(X, Y)\n",
    "Z = f(x, y)\n",
    "\n",
    "#### Add your code here\n",
    "\n",
    "max_val = np.max(Z)\n",
    "\n",
    "print('The maximum value observed is:', max_val)\n",
    "t_end = time.time()\n",
    "t2 = t_end - t_start\n",
    "print(\"Time: {:.5f}s\".format(t2))"
   ]
  },
  {
   "cell_type": "markdown",
   "metadata": {},
   "source": [
    "## Exercises"
   ]
  },
  {
   "cell_type": "markdown",
   "metadata": {},
   "source": [
    "#### 1. apply v/s np.where"
   ]
  },
  {
   "cell_type": "markdown",
   "metadata": {},
   "source": [
    "Create a dataset with 2 columns - A, and B. Each column contains random integers from 1 to 100. \n",
    "\n",
    "Let the dataset have 1 million rows (reduce this to a smaller number if needed, based on available memory)"
   ]
  },
  {
   "cell_type": "code",
   "execution_count": 58,
   "metadata": {},
   "outputs": [],
   "source": [
    "data = np.random.randint(1, 100, (10**6, 2))\n",
    "df = pd.DataFrame(data, columns = list(\"AB\"))"
   ]
  },
  {
   "cell_type": "markdown",
   "metadata": {},
   "source": [
    "Now, create a new column \"category\", which takes the value \"High\" if A > 37, and \"Low\" otherwise. \n",
    "\n",
    "Complete the function \"add_category\", and use apply() to do this. "
   ]
  },
  {
   "cell_type": "code",
   "execution_count": 59,
   "metadata": {},
   "outputs": [
    {
     "name": "stdout",
     "output_type": "stream",
     "text": [
      "Time: 0.19251s\n"
     ]
    }
   ],
   "source": [
    "def add_category(x):\n",
    "    ##### YOUR CODE HERE\n",
    "    if x > 37:\n",
    "        return \"High\"\n",
    "    else:\n",
    "        return \"Low\"\n",
    "    \n",
    "\n",
    "t_start = time.time()\n",
    "\n",
    "##COMPLETE THIS LINE\n",
    "df['category'] = df['A'].apply(add_category)\n",
    "\n",
    "t_end = time.time()\n",
    "t2 = t_end - t_start\n",
    "print(\"Time: {:.5f}s\".format(t2))"
   ]
  },
  {
   "cell_type": "markdown",
   "metadata": {},
   "source": [
    "Now, let's try this using a more efficient approach using np.where()"
   ]
  },
  {
   "cell_type": "code",
   "execution_count": 60,
   "metadata": {},
   "outputs": [
    {
     "name": "stdout",
     "output_type": "stream",
     "text": [
      "Time: 0.08096s\n"
     ]
    }
   ],
   "source": [
    "if 'category' in df.columns:\n",
    "    df = df.drop(columns = 'category')\n",
    "\n",
    "t_start = time.time()\n",
    "\n",
    "##COMPLETE THIS LINE\n",
    "df['category'] = np.where(df['A'] > 37, \"High\", \"Low\")\n",
    "\n",
    "t_end = time.time()\n",
    "t2 = t_end - t_start\n",
    "print(\"Time: {:.5f}s\".format(t2))\n"
   ]
  },
  {
   "cell_type": "markdown",
   "metadata": {},
   "source": [
    "#### 2. Sorting"
   ]
  },
  {
   "cell_type": "code",
   "execution_count": 61,
   "metadata": {},
   "outputs": [
    {
     "name": "stdout",
     "output_type": "stream",
     "text": [
      "Time: 0.13864s\n"
     ]
    }
   ],
   "source": [
    "t_start = time.time()\n",
    "##COMPLETE THIS LINE. Use the pandas sort_values() function. \n",
    "df['A'].sort_values()\n",
    "\n",
    "t_end = time.time()\n",
    "t2 = t_end - t_start\n",
    "print(\"Time: {:.5f}s\".format(t2))\n"
   ]
  },
  {
   "cell_type": "code",
   "execution_count": 62,
   "metadata": {},
   "outputs": [
    {
     "name": "stdout",
     "output_type": "stream",
     "text": [
      "Time: 0.07329s\n"
     ]
    }
   ],
   "source": [
    "t_start = time.time()\n",
    "## Convert the column A to an array, and then sort it using np.sort(). \n",
    "# YOUR CODE HERE\n",
    "arr = df['A'].values\n",
    "np.sort(arr)\n",
    "\n",
    "t_end = time.time()\n",
    "t2 = t_end - t_start\n",
    "print(\"Time: {:.5f}s\".format(t2))\n"
   ]
  },
  {
   "cell_type": "markdown",
   "metadata": {},
   "source": [
    "#### Experimental comparison between numpy and built-in python functions"
   ]
  },
  {
   "cell_type": "markdown",
   "metadata": {},
   "source": [
    "<img src=\"Images/Comparison.png\" width=700 height=700 />"
   ]
  },
  {
   "cell_type": "markdown",
   "metadata": {},
   "source": [
    "## Appendix: Additional numpy functions"
   ]
  },
  {
   "cell_type": "markdown",
   "metadata": {},
   "source": [
    "### Unary Functions\n",
    "A mathematical function that only accepts one operand (i.e. argument): f(x)"
   ]
  },
  {
   "cell_type": "markdown",
   "metadata": {},
   "source": [
    "<img src=\"Images/Unary.png\" width=500 height=500 />"
   ]
  },
  {
   "cell_type": "markdown",
   "metadata": {},
   "source": [
    "### Binary Functions\n",
    "A mathematical function that only accepts two operands: f(x,y).\n",
    "There are two cases that we must consider when working with binary functions, in the context of NumPy arrays:\n",
    "\n",
    "* When both operands of the function are arrays (of the same shape).\n",
    "* When one operand of the function is a scalar (i.e. a single number) and the other is an array."
   ]
  },
  {
   "cell_type": "markdown",
   "metadata": {},
   "source": [
    "<img src=\"Images/Binary.png\" width=700 height=700 />"
   ]
  },
  {
   "cell_type": "markdown",
   "metadata": {},
   "source": [
    "### Sequential Functions\n",
    "A sequential function expects a variable-length sequence of numbers as an input, and produces a single number as an output."
   ]
  },
  {
   "cell_type": "markdown",
   "metadata": {},
   "source": [
    "<img src=\"Images/Seq.png\" width=700 height=700 />"
   ]
  },
  {
   "cell_type": "code",
   "execution_count": null,
   "metadata": {},
   "outputs": [],
   "source": []
  }
 ],
 "metadata": {
  "kernelspec": {
   "display_name": "Python 3 (ipykernel)",
   "language": "python",
   "name": "python3"
  },
  "language_info": {
   "codemirror_mode": {
    "name": "ipython",
    "version": 3
   },
   "file_extension": ".py",
   "mimetype": "text/x-python",
   "name": "python",
   "nbconvert_exporter": "python",
   "pygments_lexer": "ipython3",
   "version": "3.10.12"
  }
 },
 "nbformat": 4,
 "nbformat_minor": 4
}
