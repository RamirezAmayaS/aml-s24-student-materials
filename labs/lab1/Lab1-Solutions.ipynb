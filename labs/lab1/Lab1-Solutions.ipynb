{
 "cells": [
  {
   "cell_type": "markdown",
   "metadata": {},
   "source": [
    "# Lab 1 - Python, Pandas and Matplotlib\n",
    "- **Author:** Suraj R. Nair ([suraj.nair@berkeley.edu](mailto:suraj.nair@berkeley.edu)) (Adapted from labs by Emily Aiken, Qutub Khan Vajihi and Dimitris Papadimitriou)\n",
    "- **Date:** Feb 17, 2024\n",
    "- **Course:** INFO 251: Applied Machine Learning"
   ]
  },
  {
   "cell_type": "markdown",
   "metadata": {},
   "source": [
    "**Bonus**: Seaborn also has beautiful built-in plots. If there is time, try experimenting with any of the following plots from seaborn using the gap_df data: [boxplot](https://seaborn.pydata.org/generated/seaborn.boxplot.html), [violinplot](https://seaborn.pydata.org/generated/seaborn.violinplot.html), or [kernel density estimate](https://seaborn.pydata.org/generated/seaborn.kdeplot.html). "
   ]
  },
  {
   "cell_type": "markdown",
   "metadata": {},
   "source": [
    "## 5. Bonus: Some Pandas Excercise Questions"
   ]
  },
  {
   "cell_type": "markdown",
   "metadata": {},
   "source": [
    "#### (Adapted from Introduction to Statistical Learning, James et al. (2013))\n"
   ]
  },
  {
   "cell_type": "markdown",
   "metadata": {},
   "source": [
    "Using the 'gapminder.csv' dataset that we utilized earlier, try to answer the below questions - "
   ]
  },
  {
   "cell_type": "code",
   "execution_count": 12,
   "metadata": {},
   "outputs": [],
   "source": [
    "import pandas as pd\n",
    "\n",
    "\n",
    "## Load DataFrame\n",
    "df_gap = pd.read_csv(\"gapminder.csv\")"
   ]
  },
  {
   "cell_type": "markdown",
   "metadata": {},
   "source": [
    "a) Which variables are quantitative and which are qualitative?"
   ]
  },
  {
   "cell_type": "code",
   "execution_count": 13,
   "metadata": {},
   "outputs": [
    {
     "data": {
      "text/plain": [
       "country        object\n",
       "year            int64\n",
       "population      int64\n",
       "continent      object\n",
       "life_exp      float64\n",
       "gdp_cap       float64\n",
       "dtype: object"
      ]
     },
     "execution_count": 13,
     "metadata": {},
     "output_type": "execute_result"
    }
   ],
   "source": [
    "df_gap.dtypes ## Use dtypes to examine the variable types"
   ]
  },
  {
   "cell_type": "markdown",
   "metadata": {},
   "source": [
    "Write your answer below - "
   ]
  },
  {
   "cell_type": "markdown",
   "metadata": {},
   "source": [
    "Answer:\n",
    "\n",
    "- country and continent are qualitative\n",
    "- year, population, life_exp a"
   ]
  },
  {
   "cell_type": "markdown",
   "metadata": {},
   "source": [
    "b) What is the *range* of **life_exp**?"
   ]
  },
  {
   "cell_type": "code",
   "execution_count": 19,
   "metadata": {},
   "outputs": [
    {
     "name": "stdout",
     "output_type": "stream",
     "text": [
      "Life expectancy ranges from 23.599 to 82.603.\n"
     ]
    }
   ],
   "source": [
    "print(f\"Life expectancy ranges from {df_gap['life_exp'].min()} to {df_gap['life_exp'].max()}.\")"
   ]
  },
  {
   "cell_type": "markdown",
   "metadata": {},
   "source": [
    "d) What is the mean and standard deviation of **population** and **gdp_cap**?"
   ]
  },
  {
   "cell_type": "code",
   "execution_count": 17,
   "metadata": {},
   "outputs": [
    {
     "data": {
      "text/html": [
       "<div>\n",
       "<style scoped>\n",
       "    .dataframe tbody tr th:only-of-type {\n",
       "        vertical-align: middle;\n",
       "    }\n",
       "\n",
       "    .dataframe tbody tr th {\n",
       "        vertical-align: top;\n",
       "    }\n",
       "\n",
       "    .dataframe thead th {\n",
       "        text-align: right;\n",
       "    }\n",
       "</style>\n",
       "<table border=\"1\" class=\"dataframe\">\n",
       "  <thead>\n",
       "    <tr style=\"text-align: right;\">\n",
       "      <th></th>\n",
       "      <th>population</th>\n",
       "      <th>gdp_cap</th>\n",
       "    </tr>\n",
       "  </thead>\n",
       "  <tbody>\n",
       "    <tr>\n",
       "      <th>mean</th>\n",
       "      <td>29601212.0</td>\n",
       "      <td>7156.0</td>\n",
       "    </tr>\n",
       "    <tr>\n",
       "      <th>std</th>\n",
       "      <td>106157897.0</td>\n",
       "      <td>9535.0</td>\n",
       "    </tr>\n",
       "  </tbody>\n",
       "</table>\n",
       "</div>"
      ],
      "text/plain": [
       "       population  gdp_cap\n",
       "mean   29601212.0   7156.0\n",
       "std   106157897.0   9535.0"
      ]
     },
     "execution_count": 17,
     "metadata": {},
     "output_type": "execute_result"
    }
   ],
   "source": [
    "df_gap[['population', 'gdp_cap']].describe().loc[['mean', 'std']].round(0) ## rounding to zero for readability"
   ]
  },
  {
   "cell_type": "markdown",
   "metadata": {},
   "source": [
    "e) Now remove observations from the continent \"Oceania\", and for the remaining data report the min,max, mean, and standard deviation of **life_exp**."
   ]
  },
  {
   "cell_type": "code",
   "execution_count": 22,
   "metadata": {},
   "outputs": [
    {
     "data": {
      "text/html": [
       "<div>\n",
       "<style scoped>\n",
       "    .dataframe tbody tr th:only-of-type {\n",
       "        vertical-align: middle;\n",
       "    }\n",
       "\n",
       "    .dataframe tbody tr th {\n",
       "        vertical-align: top;\n",
       "    }\n",
       "\n",
       "    .dataframe thead th {\n",
       "        text-align: right;\n",
       "    }\n",
       "</style>\n",
       "<table border=\"1\" class=\"dataframe\">\n",
       "  <thead>\n",
       "    <tr style=\"text-align: right;\">\n",
       "      <th></th>\n",
       "      <th>life_exp</th>\n",
       "    </tr>\n",
       "  </thead>\n",
       "  <tbody>\n",
       "    <tr>\n",
       "      <th>min</th>\n",
       "      <td>23.599000</td>\n",
       "    </tr>\n",
       "    <tr>\n",
       "      <th>max</th>\n",
       "      <td>82.603000</td>\n",
       "    </tr>\n",
       "    <tr>\n",
       "      <th>mean</th>\n",
       "      <td>59.262271</td>\n",
       "    </tr>\n",
       "    <tr>\n",
       "      <th>std</th>\n",
       "      <td>12.877940</td>\n",
       "    </tr>\n",
       "  </tbody>\n",
       "</table>\n",
       "</div>"
      ],
      "text/plain": [
       "       life_exp\n",
       "min   23.599000\n",
       "max   82.603000\n",
       "mean  59.262271\n",
       "std   12.877940"
      ]
     },
     "execution_count": 22,
     "metadata": {},
     "output_type": "execute_result"
    }
   ],
   "source": [
    "df_gap_subset = df_gap[df_gap['continent'] != \"Oceania\"].copy() # Remove Oceania\n",
    "df_gap_subset[['life_exp']].describe().loc[['min', 'max', 'mean', 'std']] "
   ]
  },
  {
   "cell_type": "markdown",
   "metadata": {},
   "source": [
    "f) For each year in the dataset, identify the country with the maximum GDP per capita."
   ]
  },
  {
   "cell_type": "code",
   "execution_count": 32,
   "metadata": {},
   "outputs": [
    {
     "data": {
      "text/html": [
       "<div>\n",
       "<style scoped>\n",
       "    .dataframe tbody tr th:only-of-type {\n",
       "        vertical-align: middle;\n",
       "    }\n",
       "\n",
       "    .dataframe tbody tr th {\n",
       "        vertical-align: top;\n",
       "    }\n",
       "\n",
       "    .dataframe thead th {\n",
       "        text-align: right;\n",
       "    }\n",
       "</style>\n",
       "<table border=\"1\" class=\"dataframe\">\n",
       "  <thead>\n",
       "    <tr style=\"text-align: right;\">\n",
       "      <th></th>\n",
       "      <th>year</th>\n",
       "      <th>country</th>\n",
       "      <th>max_gdp</th>\n",
       "    </tr>\n",
       "  </thead>\n",
       "  <tbody>\n",
       "    <tr>\n",
       "      <th>1476</th>\n",
       "      <td>1952</td>\n",
       "      <td>Switzerland</td>\n",
       "      <td>14734.23275</td>\n",
       "    </tr>\n",
       "    <tr>\n",
       "      <th>853</th>\n",
       "      <td>1957</td>\n",
       "      <td>Kuwait</td>\n",
       "      <td>113523.13290</td>\n",
       "    </tr>\n",
       "    <tr>\n",
       "      <th>854</th>\n",
       "      <td>1962</td>\n",
       "      <td>Kuwait</td>\n",
       "      <td>95458.11176</td>\n",
       "    </tr>\n",
       "    <tr>\n",
       "      <th>855</th>\n",
       "      <td>1967</td>\n",
       "      <td>Kuwait</td>\n",
       "      <td>80894.88326</td>\n",
       "    </tr>\n",
       "    <tr>\n",
       "      <th>856</th>\n",
       "      <td>1972</td>\n",
       "      <td>Kuwait</td>\n",
       "      <td>109347.86700</td>\n",
       "    </tr>\n",
       "    <tr>\n",
       "      <th>857</th>\n",
       "      <td>1977</td>\n",
       "      <td>Kuwait</td>\n",
       "      <td>59265.47714</td>\n",
       "    </tr>\n",
       "    <tr>\n",
       "      <th>1314</th>\n",
       "      <td>1982</td>\n",
       "      <td>Saudi Arabia</td>\n",
       "      <td>33693.17525</td>\n",
       "    </tr>\n",
       "    <tr>\n",
       "      <th>1147</th>\n",
       "      <td>1987</td>\n",
       "      <td>Norway</td>\n",
       "      <td>31540.97480</td>\n",
       "    </tr>\n",
       "    <tr>\n",
       "      <th>860</th>\n",
       "      <td>1992</td>\n",
       "      <td>Kuwait</td>\n",
       "      <td>34932.91959</td>\n",
       "    </tr>\n",
       "    <tr>\n",
       "      <th>1149</th>\n",
       "      <td>1997</td>\n",
       "      <td>Norway</td>\n",
       "      <td>41283.16433</td>\n",
       "    </tr>\n",
       "    <tr>\n",
       "      <th>1150</th>\n",
       "      <td>2002</td>\n",
       "      <td>Norway</td>\n",
       "      <td>44683.97525</td>\n",
       "    </tr>\n",
       "    <tr>\n",
       "      <th>1151</th>\n",
       "      <td>2007</td>\n",
       "      <td>Norway</td>\n",
       "      <td>49357.19017</td>\n",
       "    </tr>\n",
       "  </tbody>\n",
       "</table>\n",
       "</div>"
      ],
      "text/plain": [
       "      year       country       max_gdp\n",
       "1476  1952   Switzerland   14734.23275\n",
       "853   1957        Kuwait  113523.13290\n",
       "854   1962        Kuwait   95458.11176\n",
       "855   1967        Kuwait   80894.88326\n",
       "856   1972        Kuwait  109347.86700\n",
       "857   1977        Kuwait   59265.47714\n",
       "1314  1982  Saudi Arabia   33693.17525\n",
       "1147  1987        Norway   31540.97480\n",
       "860   1992        Kuwait   34932.91959\n",
       "1149  1997        Norway   41283.16433\n",
       "1150  2002        Norway   44683.97525\n",
       "1151  2007        Norway   49357.19017"
      ]
     },
     "execution_count": 32,
     "metadata": {},
     "output_type": "execute_result"
    }
   ],
   "source": [
    "#First, get the max GDP for each year\n",
    "\n",
    "# Many ways to do this. \n",
    "# Here, we use the groupby and then transform, storing the yearly max for gdp_cap in a separate column\n",
    "# We then find the corresponding rows, and sort\n",
    "\n",
    "df_gap['max_gdp'] = df_gap.groupby('year')['gdp_cap'].transform('max') \n",
    "df_gap[df_gap['gdp_cap'] == df_gap['max_gdp']][['year', 'country', 'max_gdp']].sort_values('year')"
   ]
  },
  {
   "cell_type": "code",
   "execution_count": 34,
   "metadata": {},
   "outputs": [
    {
     "data": {
      "text/plain": [
       "year\n",
       "1952     Switzerland\n",
       "1957          Kuwait\n",
       "1962          Kuwait\n",
       "1967          Kuwait\n",
       "1972          Kuwait\n",
       "1977          Kuwait\n",
       "1982    Saudi Arabia\n",
       "1987          Norway\n",
       "1992          Kuwait\n",
       "1997          Norway\n",
       "2002          Norway\n",
       "2007          Norway\n",
       "Name: gdp_cap, dtype: object"
      ]
     },
     "execution_count": 34,
     "metadata": {},
     "output_type": "execute_result"
    }
   ],
   "source": [
    "# Same output, using a single line of code (without creating a separate column for max)\n",
    "# We set the country as the index, and then use idxmax to directly obtain the index for the largest value in each year\n",
    "df_gap.set_index('country').groupby('year')['gdp_cap'].idxmax()"
   ]
  }
 ],
 "metadata": {
  "anaconda-cloud": {},
  "kernelspec": {
   "display_name": "Python 3 (ipykernel)",
   "language": "python",
   "name": "python3"
  },
  "language_info": {
   "codemirror_mode": {
    "name": "ipython",
    "version": 3
   },
   "file_extension": ".py",
   "mimetype": "text/x-python",
   "name": "python",
   "nbconvert_exporter": "python",
   "pygments_lexer": "ipython3",
   "version": "3.10.12"
  }
 },
 "nbformat": 4,
 "nbformat_minor": 1
}
