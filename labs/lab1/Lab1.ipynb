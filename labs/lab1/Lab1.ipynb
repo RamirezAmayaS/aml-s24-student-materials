{
 "cells": [
  {
   "cell_type": "markdown",
   "metadata": {},
   "source": [
    "# Lab 1 - Python, Pandas and Matplotlib\n",
    "- **Author:** Suraj R. Nair ([suraj.nair@berkeley.edu](mailto:suraj.nair@berkeley.edu)) (Adapted from labs by Emily Aiken, Qutub Khan Vajihi and Dimitris Papadimitriou)\n",
    "- **Date:** Feb 17, 2024\n",
    "- **Course:** INFO 251: Applied Machine Learning"
   ]
  },
  {
   "cell_type": "markdown",
   "metadata": {},
   "source": [
    "### Learning Objectives:\n",
    "\n",
    "* Know what is good style when writing Python code\n",
    "* Learn some useful Python features that you may not already know about\n",
    "* Work with DataFrames using the Pandas library\n",
    "* Produce basic graphs using the Matplotlib library, and learn some tips to produce readable and beautiful graphs"
   ]
  },
  {
   "cell_type": "markdown",
   "metadata": {},
   "source": [
    "### Feedback:\n",
    "\n",
    "After the lab, please provide feedback via this anonymous [google form](https://forms.gle/ZM8GaTf5Ejo544zY9). \n"
   ]
  },
  {
   "cell_type": "markdown",
   "metadata": {},
   "source": [
    "## 1. Python Code Style\n",
    "Below are some key points for Python coding style. Most importantly, remember that code is for people to read --- and in this class, for people to grade --- so use your best judgement to make your code readable. \n",
    "\n",
    "For more information, visit Guido van Rossum's python style guide: [PEP 8 -- Style Guide for Python Code](https://www.python.org/dev/peps/pep-0008/). \n",
    "\n",
    "*Agenda: Line length, variable names, strings, whitespace, blank lines, comments, imports*"
   ]
  },
  {
   "cell_type": "markdown",
   "metadata": {},
   "source": [
    "* **Line length**:\n",
    "    Maximum line length is 79 characters. As a rule of thumb, in Jupyter notebooks, just don't go over the length of the box on a laptop screen. If you have a very long line of code, you can break it using a backslash.\n",
    "    \n",
    "\n",
    "\n"
   ]
  },
  {
   "cell_type": "markdown",
   "metadata": {},
   "source": [
    "* **Variable names:** Make variable names (nouns) and function names (verbs) descriptive."
   ]
  },
  {
   "cell_type": "code",
   "execution_count": null,
   "metadata": {},
   "outputs": [],
   "source": [
    "# Correct\n",
    "hyperparameter_grid = {1, 2, 3}\n",
    "no_of_iterations = 50\n",
    "\n",
    "# Incorrect\n",
    "a = 12\n",
    "var = 10"
   ]
  },
  {
   "cell_type": "markdown",
   "metadata": {},
   "source": [
    "* **Strings:** Be consistent between ' and \"."
   ]
  },
  {
   "cell_type": "markdown",
   "metadata": {},
   "source": [
    "* **Whitespace:** \n",
    "Always surround these binary operators with a single space on either side: assignment (=), augmented assignment (+=, -= etc.), comparisons (==, <, >, !=, <>, <=, >=, in, not in, is, is not), Booleans (and, or, not). Avoid extraneous whitespaces immediately inside parentheses, brackets, or braces"
   ]
  },
  {
   "cell_type": "code",
   "execution_count": null,
   "metadata": {},
   "outputs": [],
   "source": [
    "# Correct:\n",
    "i = 0\n",
    "i = i + 1\n",
    "i += 1\n",
    "lst = [0, 1, 2]\n",
    "tple = (0, 1, 2)\n",
    "st = {0, 1, 2}\n",
    "print(lst[0])\n",
    "\n",
    "# Incorrect:\n",
    "i=0\n",
    "i+=1\n",
    "lst = [ 0, 1, 2 ]\n",
    "tple = ( 0, 1, 2 )\n",
    "st = { 0, 1, 2 }\n",
    "print( lst[ 0 ] )"
   ]
  },
  {
   "cell_type": "markdown",
   "metadata": {},
   "source": [
    "* **Blank lines:**\n",
    "Maintain two lines between all top-level things (functions, classes, imports, etc)"
   ]
  },
  {
   "cell_type": "code",
   "execution_count": null,
   "metadata": {},
   "outputs": [],
   "source": [
    "import numpy \n",
    "import pandas\n",
    "\n",
    "def foo(x):\n",
    "    if x >= 0:\n",
    "        return math.sqrt(x)\n",
    "    else:\n",
    "        return None\n",
    "\n",
    "def bar(x):\n",
    "    if x < 0:\n",
    "        return None\n",
    "    return math.sqrt(x)"
   ]
  },
  {
   "cell_type": "markdown",
   "metadata": {},
   "source": [
    "* **Comments:**\n",
    "    For readability, try to always explain the functionality of your lines by commenting. Comments can come before blocks of code, or inline for single lines of code.\n",
    "    \n",
    "* **Docstrings:**\n",
    "    Docstrings are used to document a Python module, class, function or method. For consistency, always use \"\"\"triple double quotes\"\"\" around docstrings. "
   ]
  },
  {
   "cell_type": "code",
   "execution_count": null,
   "metadata": {},
   "outputs": [],
   "source": [
    "# Creating a dictionary and inverting it\n",
    "my_map = {'INFO 251':0,'Lab':1}\n",
    "inv_map = {v: k for k, v in my_map.items()} #inverting the dict\n",
    "\n",
    "# Printing and returning the dictionary\n",
    "print(inv_map)\n",
    "inv_map\n",
    "\n",
    "# Inline comments\n",
    "y = 94720\n",
    "y = y + 1   # Increment y. This is an inline comment. Use sparingly. \n",
    "\n",
    "# Docstrings\n",
    "def foo(x):\n",
    "    \"\"\"Given a positive number, this function returns its square root\"\"\" \n",
    "    if x >= 0:\n",
    "        sqrt = math.sqrt(x)\n",
    "        return sqrt\n",
    "    else:\n",
    "        return None    \n",
    "    \n",
    "def foo(x):\n",
    "    \"\"\" Parameters\n",
    "        ----------\n",
    "        x : numeric\n",
    "            If positive, return the square root\n",
    "\n",
    "        Returns\n",
    "        -------\n",
    "        sqrt : numeric\n",
    "        \n",
    "        *Note that in a multiline docstring, the closing quotes are on a separate line\n",
    "    \"\"\"\n",
    "    if x >= 0:\n",
    "        return math.sqrt(x)\n",
    "    else:\n",
    "        return None  \n",
    "\n",
    "\n",
    "\n"
   ]
  },
  {
   "cell_type": "markdown",
   "metadata": {},
   "source": [
    "* **Imports** - Imports from the same class/package should be on the same line. Imports from different classes/packages should be on different lines. "
   ]
  },
  {
   "cell_type": "code",
   "execution_count": null,
   "metadata": {},
   "outputs": [],
   "source": [
    "# Correct:\n",
    "import pandas\n",
    "import matplotlib\n",
    "\n",
    "# Wrong:\n",
    "import pandas, matplotlib\n",
    "\n",
    "# Correct:\n",
    "from sklearn.metrics import r2_score, roc_auc_score"
   ]
  },
  {
   "cell_type": "markdown",
   "metadata": {},
   "source": [
    "## 2. Some Useful Python Features\n",
    "*Agenda: Reading/writing files, file paths, enumerate, lambda functions, zip*"
   ]
  },
  {
   "cell_type": "markdown",
   "metadata": {},
   "source": [
    "* **Reading and writing files:** Use \"with\" to open the files, which will make sure the files are closed automatically"
   ]
  },
  {
   "cell_type": "code",
   "execution_count": null,
   "metadata": {},
   "outputs": [],
   "source": [
    "# Use \"with\" to open files...\n",
    "with open('test.txt', 'r') as f:\n",
    "    for line in f:\n",
    "        print(line)"
   ]
  },
  {
   "cell_type": "code",
   "execution_count": null,
   "metadata": {},
   "outputs": [],
   "source": [
    "# ...otherwise you explicitly need to 'open' and 'close' files.\n",
    "f = open('test.txt', 'r')\n",
    "for line in f:\n",
    "    print(line)\n",
    "\n",
    "f.close()"
   ]
  },
  {
   "cell_type": "markdown",
   "metadata": {},
   "source": [
    "* **File paths:** Concatenate path parts with **os.path.join** rather than with string concatenation"
   ]
  },
  {
   "cell_type": "code",
   "execution_count": null,
   "metadata": {},
   "outputs": [],
   "source": [
    "import os\n",
    "\n",
    "# Correct\n",
    "country_name = 'USA'\n",
    "month = 'January'\n",
    "path = os.path.join('a', 'b', country_name, month)\n",
    "print(path)\n",
    "\n",
    "# Less correct\n",
    "path = 'a/b/' + country_name + '/' + month\n",
    "print(path)"
   ]
  },
  {
   "cell_type": "markdown",
   "metadata": {},
   "source": [
    "* **Enumerate**: great for getting index and elements of an iterator at the same time. "
   ]
  },
  {
   "cell_type": "code",
   "execution_count": null,
   "metadata": {},
   "outputs": [],
   "source": [
    "# Use enumerate to get the index (which comes first) and the element (which comes second) at the same time...\n",
    "for i, x in enumerate([1, 2, 3]):\n",
    "    print('Index:', i)\n",
    "    print('Element:', x)"
   ]
  },
  {
   "cell_type": "code",
   "execution_count": null,
   "metadata": {},
   "outputs": [],
   "source": [
    "# ...otherwise you'll have to use a \"flag variable\", which isn't very elegant\n",
    "flag = 0\n",
    "for x in [1, 2, 3]:\n",
    "    print('Index:', flag)\n",
    "    print('Element:', x)\n",
    "    flag += 1"
   ]
  },
  {
   "cell_type": "markdown",
   "metadata": {},
   "source": [
    "* **Lambda functions**: A Lambda Function is a small, anonymous function — anonymous in the sense that it doesn’t actually have a name. Lambda functions are used a lot with pandas."
   ]
  },
  {
   "cell_type": "code",
   "execution_count": null,
   "metadata": {},
   "outputs": [],
   "source": [
    "# Lambda function with one variable\n",
    "x = lambda a : a*3 + 3\n",
    "print(x(3)) # prints '12'\n",
    "\n",
    "# A less elegant way to code up the function with one variable\n",
    "def my_function(a):\n",
    "    return a*3 + 3\n",
    "print(my_function(3))"
   ]
  },
  {
   "cell_type": "code",
   "execution_count": null,
   "metadata": {},
   "outputs": [],
   "source": [
    "# Lambda function with two variables\n",
    "x = lambda a, b : a * b\n",
    "print(x(5, 6)) # prints '30'"
   ]
  },
  {
   "cell_type": "markdown",
   "metadata": {},
   "source": [
    "* **Zipping**: The zip() function returns a zip object, which is an iterator of tuples where the first item in each passed iterator is paired together, and then the second item in each passed iterator are paired together etc. If the passed iterators have different lengths, the iterator with the least items decides the length of the new iterator. (https://www.w3schools.com/python/ref_func_zip.asp). It's a great way of pairing together two lists."
   ]
  },
  {
   "cell_type": "code",
   "execution_count": null,
   "metadata": {},
   "outputs": [],
   "source": [
    "# Exampling zipping with two lists of the same length\n",
    "products = ['bread', 'eggs', 'gas']\n",
    "prices = [4.99, 6, 5.60]\n",
    "\n",
    "for product, price in zip(products, prices):\n",
    "    print('Product: {}, Price: {}'.format(product, price))"
   ]
  },
  {
   "cell_type": "code",
   "execution_count": null,
   "metadata": {},
   "outputs": [],
   "source": [
    "# Exampling zipping with two lists of different lengths -- the resulting zip object is the shorter length\n",
    "products = ['table', 'chair', 'sofa', 'bed']\n",
    "prices = [50, 20, 200]\n",
    "\n",
    "for product, price in zip(products, prices):\n",
    "    print('Product: {}, Price: {}'.format(product, price))"
   ]
  },
  {
   "cell_type": "markdown",
   "metadata": {},
   "source": [
    "**Note**: Take a look at the [itertools](https://docs.python.org/3/library/itertools.html) module, which has more tools and functions for efficient looping"
   ]
  },
  {
   "cell_type": "markdown",
   "metadata": {},
   "source": [
    "## 3. Pandas\n",
    "*Agenda: Data loading, viewing, selection, grouping/aggregation, mutation, string operations*"
   ]
  },
  {
   "cell_type": "markdown",
   "metadata": {},
   "source": [
    "#### 3.1 Load the data"
   ]
  },
  {
   "cell_type": "code",
   "execution_count": null,
   "metadata": {},
   "outputs": [],
   "source": [
    "import pandas as pd\n",
    "\n",
    "# Loading a csv\n",
    "gap_df = pd.read_csv('gapminder.csv')\n",
    "\n",
    "# # Other loading tricks\n",
    "gap_df1 = pd.read_csv('gapminder.csv', nrows=10) # Useful when dataset has too many observations to fit in memory\n",
    "gap_df2 = pd.read_csv('gapminder.csv', usecols=['country', 'continent', 'population']) # When you want to keep a few columns"
   ]
  },
  {
   "cell_type": "markdown",
   "metadata": {},
   "source": [
    "Variable Dictionary\n",
    "- country: country name\n",
    "- year: year (YYYY format)\n",
    "- population: total population \n",
    "- continent: excludes Antarctica\n",
    "- life_exp: Life Expectancy (yrs)\n",
    "- gpd_cap: GDP per Capita"
   ]
  },
  {
   "cell_type": "markdown",
   "metadata": {},
   "source": [
    "#### 3.2 Viewing the data"
   ]
  },
  {
   "cell_type": "code",
   "execution_count": null,
   "metadata": {},
   "outputs": [],
   "source": [
    "# Dimensions of the dataframe\n",
    "gap_df.shape"
   ]
  },
  {
   "cell_type": "code",
   "execution_count": null,
   "metadata": {},
   "outputs": [],
   "source": [
    "# Display first 10 rows\n",
    "gap_df.head(10)"
   ]
  },
  {
   "cell_type": "code",
   "execution_count": null,
   "metadata": {
    "scrolled": true
   },
   "outputs": [],
   "source": [
    "# Display last 5 rows\n",
    "gap_df.tail(5)"
   ]
  },
  {
   "cell_type": "code",
   "execution_count": null,
   "metadata": {},
   "outputs": [],
   "source": [
    "# Dataset types\n",
    "gap_df.dtypes"
   ]
  },
  {
   "cell_type": "code",
   "execution_count": null,
   "metadata": {},
   "outputs": [],
   "source": [
    "# Quick descriptive stats\n",
    "gap_df.describe()\n",
    "\n",
    "#Use the include/ exclude arguments to keep/ remove certain types of columns\n",
    "#gap_df.describe(include = \"all\")\n",
    "#gap_df.describe(exclude = \"O\") #removes columns of dtype \"object\""
   ]
  },
  {
   "cell_type": "markdown",
   "metadata": {},
   "source": [
    "#### 3.3 Missing values"
   ]
  },
  {
   "cell_type": "code",
   "execution_count": null,
   "metadata": {},
   "outputs": [],
   "source": [
    "## Use the .isna() method to check if a variable/ column has missing values\n",
    "\n",
    "#gap_df.isna()\n",
    "\n",
    "gap_df.isna().sum()\n",
    "\n"
   ]
  },
  {
   "cell_type": "markdown",
   "metadata": {},
   "source": [
    "#### 3.4 Selection"
   ]
  },
  {
   "cell_type": "markdown",
   "metadata": {},
   "source": [
    "There are multiple ways to select data from a pandas dataframe. Here are a few options..."
   ]
  },
  {
   "cell_type": "code",
   "execution_count": null,
   "metadata": {},
   "outputs": [],
   "source": [
    "# Select columns using the double bracket notation\n",
    "gap_df[['year', 'population']] "
   ]
  },
  {
   "cell_type": "code",
   "execution_count": null,
   "metadata": {},
   "outputs": [],
   "source": [
    "# Select multiple rows by indexing in as though the dataframe were a list -- note that this notation ignores \n",
    "# the dataframe's index\n",
    "gap_df[0:3]"
   ]
  },
  {
   "cell_type": "code",
   "execution_count": null,
   "metadata": {},
   "outputs": [],
   "source": [
    "# Select a row or rows using \"loc\", which corresponds to the value of the index\n",
    "gap_df.loc[0]\n",
    "#gap_df.loc[0:2]\n",
    "#gap_df.loc[0:2, ['year','country']]"
   ]
  },
  {
   "cell_type": "code",
   "execution_count": null,
   "metadata": {},
   "outputs": [],
   "source": [
    "# Select a row or rows using \"iloc\", which ignores the index \n",
    "gap_df_adjusted_index = gap_df.copy()\n",
    "gap_df_adjusted_index.index = gap_df_adjusted_index.index + 3\n",
    "gap_df.iloc[0]\n",
    "#gap_df.iloc[0:2]\n",
    "#gap_df.iloc[0:2, 3:5] # Note that iloc also using numbers to denote the columns selected\n"
   ]
  },
  {
   "cell_type": "code",
   "execution_count": null,
   "metadata": {
    "scrolled": true
   },
   "outputs": [],
   "source": [
    "# Filtering by column values\n",
    "gap_df[(gap_df['life_exp'] < 70) & (gap_df['year'] == 2002)]"
   ]
  },
  {
   "cell_type": "code",
   "execution_count": null,
   "metadata": {},
   "outputs": [],
   "source": [
    "# Selecting unique values from a single columns\n",
    "gap_df['continent'].unique()"
   ]
  },
  {
   "cell_type": "code",
   "execution_count": null,
   "metadata": {},
   "outputs": [],
   "source": [
    "# Selecting unique values from a set of columns\n",
    "gap_df[['country', 'continent']].drop_duplicates()"
   ]
  },
  {
   "cell_type": "markdown",
   "metadata": {},
   "source": [
    "#### 3.5 Aggregation and Grouping"
   ]
  },
  {
   "cell_type": "code",
   "execution_count": null,
   "metadata": {},
   "outputs": [],
   "source": [
    "# Basic aggregations to the entire dataframe: You can just apply the functions directly.\n",
    "gap_df.mean(numeric_only = True)\n",
    "#gap_df.std()\n",
    "#gap_df.min()\n",
    "#gap_df.max()\n",
    "#gap_df.median()\n",
    "#gap_df.mode()"
   ]
  },
  {
   "cell_type": "code",
   "execution_count": null,
   "metadata": {},
   "outputs": [],
   "source": [
    "# Grouping: Creates a \"pandas groupby\" object\n",
    "gap_df.groupby('continent')"
   ]
  },
  {
   "cell_type": "code",
   "execution_count": null,
   "metadata": {},
   "outputs": [],
   "source": [
    "# Grouped aggregations: Apply aggregations to the \"pandas groupby\" object\n",
    "gap_df.groupby('country').mean(numeric_only = True)\n",
    "gap_df.groupby('country').agg('mean') # Equivalent syntax"
   ]
  },
  {
   "cell_type": "code",
   "execution_count": null,
   "metadata": {},
   "outputs": [],
   "source": [
    "# Tip: Use as_index=False in groupby to keep the groups as a regular column\n",
    "gap_df.groupby('country', as_index=False).mean(numeric_only = True)"
   ]
  },
  {
   "cell_type": "markdown",
   "metadata": {},
   "source": [
    "#### 3.6 Mutations"
   ]
  },
  {
   "cell_type": "code",
   "execution_count": null,
   "metadata": {},
   "outputs": [],
   "source": [
    "# Basic functions of one or more columns: Use the intuitive syntax\n",
    "gap_df['life_exp_increment'] = gap_df['life_exp'] + 1\n",
    "gap_df['life_exp_times_population'] = gap_df['life_exp']*gap_df['population']"
   ]
  },
  {
   "cell_type": "code",
   "execution_count": null,
   "metadata": {},
   "outputs": [],
   "source": [
    "# More complex functions: Use \"apply\"\n",
    "gap_df['life_exp_string'] = gap_df['life_exp'].apply(lambda x: str(x) + ' yrs') # Apply with a single column\n",
    "\n",
    "# Apply using multiple columns -- much slower, and don't forget the \"axis=1\"\n",
    "gap_df['country_year'] = gap_df.apply(lambda row: row['country'] + ' - ' + str(row['year']), axis=1)\n",
    "\n",
    "gap_df.head()"
   ]
  },
  {
   "cell_type": "code",
   "execution_count": null,
   "metadata": {},
   "outputs": [],
   "source": [
    "# Map is occasionally an elegant alternative to apply\n",
    "# A map is just a dictionary mapping an input value to an output value\n",
    "\n",
    "continent_map = {'Asia':1, 'Africa':2, 'Europe':3, 'Americas':4, 'Oceania':5} \n",
    "gap_df['continent_val'] = gap_df['continent'].map(continent_map)\n",
    "gap_df"
   ]
  },
  {
   "cell_type": "code",
   "execution_count": null,
   "metadata": {},
   "outputs": [],
   "source": [
    "# Frequency counts\n",
    "gap_df['country'].value_counts().sort_index()"
   ]
  },
  {
   "cell_type": "markdown",
   "metadata": {},
   "source": [
    "#### 3.7 String Operations\n",
    "\n",
    "Full list of pandas functions for string handling [here](https://pandas.pydata.org/docs/reference/series.html#string-handling)"
   ]
  },
  {
   "cell_type": "code",
   "execution_count": null,
   "metadata": {
    "scrolled": true
   },
   "outputs": [],
   "source": [
    "# Make upper case\n",
    "gap_df['country'].str.upper()"
   ]
  },
  {
   "cell_type": "code",
   "execution_count": null,
   "metadata": {},
   "outputs": [],
   "source": [
    "# Make lower case\n",
    "gap_df['country'].str.lower()"
   ]
  },
  {
   "cell_type": "markdown",
   "metadata": {},
   "source": [
    "## 4. Matplotlib\n",
    "\n",
    "\n",
    "The matplotlib [gallery](https://matplotlib.org/2.0.2/gallery.html) has examples of various kinds of charts you can create(along with code snippets). "
   ]
  },
  {
   "cell_type": "code",
   "execution_count": null,
   "metadata": {},
   "outputs": [],
   "source": [
    "# Enable inline plotting of matplotlib figures, and import matplotlib\n",
    "%matplotlib inline\n",
    "import matplotlib.pyplot as plt"
   ]
  },
  {
   "cell_type": "markdown",
   "metadata": {},
   "source": [
    "#### 4.1 Boxplots"
   ]
  },
  {
   "cell_type": "code",
   "execution_count": null,
   "metadata": {},
   "outputs": [],
   "source": [
    "plt.figure(figsize=(5, 5))\n",
    "plt.boxplot(gap_df['life_exp'])\n",
    "plt.show()"
   ]
  },
  {
   "cell_type": "markdown",
   "metadata": {},
   "source": [
    "#### 4.2 Histograms"
   ]
  },
  {
   "cell_type": "code",
   "execution_count": null,
   "metadata": {},
   "outputs": [],
   "source": [
    "plt.figure()\n",
    "plt.hist(gap_df['gdp_cap'], color='Red')\n",
    "plt.show()"
   ]
  },
  {
   "cell_type": "markdown",
   "metadata": {},
   "source": [
    "#### 4.3 Scatter Plots"
   ]
  },
  {
   "cell_type": "code",
   "execution_count": null,
   "metadata": {},
   "outputs": [],
   "source": [
    "plt.figure()\n",
    "plt.scatter(gap_df['life_exp'], gap_df['gdp_cap'], alpha=0.2) # Low alpha makes overlapping markers readable\n",
    "plt.show()"
   ]
  },
  {
   "cell_type": "markdown",
   "metadata": {},
   "source": [
    "#### 4.4 Bar Plots"
   ]
  },
  {
   "cell_type": "code",
   "execution_count": null,
   "metadata": {},
   "outputs": [],
   "source": [
    "plt.figure()\n",
    "plt.barh(gap_df['continent'], gap_df['gdp_cap'])\n",
    "plt.show()"
   ]
  },
  {
   "cell_type": "markdown",
   "metadata": {},
   "source": [
    "#### 4.5 Making plots readable: Title, axes labeling, legends, subplots and more"
   ]
  },
  {
   "cell_type": "code",
   "execution_count": null,
   "metadata": {},
   "outputs": [],
   "source": [
    "# Title, axis labels, and legend\n",
    "plt.figure()\n",
    "plt.scatter(gap_df['life_exp'], gap_df['gdp_cap'], alpha=0.2, label='Observations (N=%i)' % len(gap_df)) # Label for legend\n",
    "\n",
    "plt.title('GDP Per Capita v/s Life Expectancy', fontsize='x-large')\n",
    "##plt.xlabel('Life Expectancy (Years)')\n",
    "#plt.ylabel('GDP Per Capita (USD)')\n",
    "# plt.legend(loc='best')\n",
    "\n",
    "# The right and top spines are ugly -- let's remove them\n",
    "#plt.gca().spines['top'].set_visible(False)\n",
    "#plt.gca().spines['right'].set_visible(False)\n",
    "\n",
    "plt.show()"
   ]
  },
  {
   "cell_type": "code",
   "execution_count": null,
   "metadata": {},
   "outputs": [],
   "source": [
    "# Subplots\n",
    "fig, ax = plt.subplots(2, 2, figsize=(10, 6))\n",
    "ax = ax.flatten() # Turns the axes object into a 1D array instead of a 2D array -- convenient for indexing\n",
    "\n",
    "ax[0].boxplot(gap_df['gdp_cap'].dropna())\n",
    "ax[1].hist(gap_df['life_exp'], color='Red')\n",
    "ax[2].scatter(gap_df['life_exp'], gap_df['gdp_cap'], alpha=0.2)\n",
    "ax[3].barh(gap_df['continent'], gap_df['population'])\n",
    "\n",
    "# Note that the syntax for the title is slightly different for subplots. Syntax is likewise a little different\n",
    "# for setting axis labels.\n",
    "ax[0].set_title('Distribution of GDP Per Capita')\n",
    "ax[1].set_title('Distribution of Life Expectancy')\n",
    "ax[2].set_title('GDP Per Capita v/s Life Expectancy')\n",
    "ax[3].set_title('Population by Continent')\n",
    "\n",
    "# Again, turning off the top and right spines\n",
    "for a in range(len(ax)):\n",
    "    ax[a].spines['top'].set_visible(False)\n",
    "    ax[a].spines['right'].set_visible(False)\n",
    "\n",
    "plt.tight_layout() # Always use tight_layout to maximize space in the plot\n",
    "plt.show()"
   ]
  },
  {
   "cell_type": "markdown",
   "metadata": {},
   "source": [
    "#### 4.6 Making plots beautiful: Seaborn"
   ]
  },
  {
   "cell_type": "code",
   "execution_count": null,
   "metadata": {},
   "outputs": [],
   "source": [
    "import seaborn as sns\n",
    "sns.set(font_scale=1.5) # Convenient way to set the font scale for all parts of the plot at the same time\n",
    "\n",
    "fig, ax = plt.subplots(1, 2, figsize=(10, 4))\n",
    "\n",
    "ax[0].scatter(gap_df['life_exp'], gap_df['gdp_cap'], alpha=0.2)\n",
    "ax[1].hist(gap_df['life_exp'], color='Red')\n",
    "\n",
    "plt.show()"
   ]
  },
  {
   "cell_type": "code",
   "execution_count": null,
   "metadata": {},
   "outputs": [],
   "source": [
    "# Uncomment and run this line below to remove the grids and grey background for the plots\n",
    "# sns.set_style(\"whitegrid\", {'axes.grid' : False}) "
   ]
  },
  {
   "cell_type": "code",
   "execution_count": null,
   "metadata": {},
   "outputs": [],
   "source": [
    "fig, ax = plt.subplots( figsize=(5, 5))\n",
    "\n",
    "# Use the hue argument to shade the points in this scatterplot by a categorical variable\n",
    "sns.scatterplot(data = gap_df, x = 'life_exp', y = 'gdp_cap', hue = 'continent', alpha=0.2) \n",
    "plt.legend(bbox_to_anchor = (1.05, 1), fontsize = 12) #bbox_to_anchor allows you to manually move the legend\n",
    "plt.xlabel(\"Life Expectancy\", fontsize = 13) #font size can be set separately for each piece of text\n",
    "plt.ylabel(\"GDP Per Capita (USD)\", fontsize = 14)\n",
    "sns.despine() #get rid  of the top and right axis\n",
    "plt.show()"
   ]
  },
  {
   "cell_type": "markdown",
   "metadata": {},
   "source": [
    "**Bonus**: Seaborn also has beautiful built-in plots. If there is time, try experimenting with any of the following plots from seaborn using the gap_df data: [boxplot](https://seaborn.pydata.org/generated/seaborn.boxplot.html), [violinplot](https://seaborn.pydata.org/generated/seaborn.violinplot.html), or [kernel density estimate](https://seaborn.pydata.org/generated/seaborn.kdeplot.html). "
   ]
  },
  {
   "cell_type": "markdown",
   "metadata": {},
   "source": [
    "## 5. Bonus: Some Pandas Excercise Questions"
   ]
  },
  {
   "cell_type": "markdown",
   "metadata": {},
   "source": [
    "#### (Adapted from Introduction to Statistical Learning, James et al. (2013))\n"
   ]
  },
  {
   "cell_type": "markdown",
   "metadata": {},
   "source": [
    "Using the 'gapminder.csv' dataset that we utilized earlier, try to answer the below questions - "
   ]
  },
  {
   "cell_type": "markdown",
   "metadata": {},
   "source": [
    "a) Which variables are quantitative and which are qualitative?"
   ]
  },
  {
   "cell_type": "markdown",
   "metadata": {},
   "source": [
    "Write you answer below - "
   ]
  },
  {
   "cell_type": "markdown",
   "metadata": {},
   "source": [
    "b) What is the *range* of **life_exp**?"
   ]
  },
  {
   "cell_type": "code",
   "execution_count": null,
   "metadata": {},
   "outputs": [],
   "source": []
  },
  {
   "cell_type": "markdown",
   "metadata": {},
   "source": [
    "d) What is the mean and standard deviation of **population** and **gdp_cap**?"
   ]
  },
  {
   "cell_type": "code",
   "execution_count": null,
   "metadata": {},
   "outputs": [],
   "source": []
  },
  {
   "cell_type": "markdown",
   "metadata": {},
   "source": [
    "e) Now remove observations from the continent \"Oceania\", and for the remaining data report the min,max, mean, and standard deviation of **life_exp**."
   ]
  },
  {
   "cell_type": "code",
   "execution_count": null,
   "metadata": {},
   "outputs": [],
   "source": []
  },
  {
   "cell_type": "markdown",
   "metadata": {},
   "source": [
    "f) For each year in the dataset, identify the country with the maximum GDP per capita."
   ]
  },
  {
   "cell_type": "code",
   "execution_count": null,
   "metadata": {},
   "outputs": [],
   "source": []
  }
 ],
 "metadata": {
  "anaconda-cloud": {},
  "kernelspec": {
   "display_name": "Python 3 (ipykernel)",
   "language": "python",
   "name": "python3"
  },
  "language_info": {
   "codemirror_mode": {
    "name": "ipython",
    "version": 3
   },
   "file_extension": ".py",
   "mimetype": "text/x-python",
   "name": "python",
   "nbconvert_exporter": "python",
   "pygments_lexer": "ipython3",
   "version": "3.10.12"
  }
 },
 "nbformat": 4,
 "nbformat_minor": 1
}
