{
 "cells": [
  {
   "cell_type": "markdown",
   "id": "74a6cd72",
   "metadata": {},
   "source": [
    "# Problem Set 1\n",
    "\n",
    "This problem set is meant to help you familiarize yourself with Python and Pandas. This is meant to be a very gentle introduction -- if you find this problem set to be difficult, you might want to consider taking a more introductory course."
   ]
  },
  {
   "cell_type": "markdown",
   "id": "cb90797e",
   "metadata": {},
   "source": [
    "### Before You Start\n",
    "For this problem set, you should download INF0251-PS1.ipynb from bCourses. Create a local copy of the notebook and rename it LASTNAME_FIRSTNAME-PS1.ipynb. Then edit your renamed file directly in your browser by typing:\n",
    "```\n",
    "jupyter notebook <name_of_downloaded_file>\n",
    "```\n",
    "\n",
    "Make sure the following libraries load correctly (hit Ctrl-Enter)."
   ]
  },
  {
   "cell_type": "code",
   "execution_count": null,
   "id": "179897e4",
   "metadata": {},
   "outputs": [],
   "source": [
    "#IPython is what you are using now to run the notebook\n",
    "import IPython\n",
    "print(\"IPython version:      %6.6s (need at least 1.0)\" % IPython.__version__)\n",
    "\n",
    "# Numpy is a library for working with Arrays\n",
    "import numpy as np\n",
    "print(\"Numpy version:        %6.6s (need at least 1.7.1)\" % np.__version__)\n",
    "\n",
    "# SciPy implements many different numerical algorithms\n",
    "import scipy as sp\n",
    "print(\"SciPy version:        %6.6s (need at least 0.12.0)\" % sp.__version__)\n",
    "\n",
    "# Pandas makes working with data tables easier\n",
    "import pandas as pd\n",
    "print(\"Pandas version:       %6.6s (need at least 0.11.0)\" % pd.__version__)\n",
    "\n",
    "# Module for plotting\n",
    "import matplotlib\n",
    "print(\"Maplotlib version:    %6.6s (need at least 1.2.1)\" % matplotlib.__version__)\n",
    "\n",
    "# SciKit Learn implements several Machine Learning algorithms\n",
    "import sklearn\n",
    "print(\"Scikit-Learn version: %6.6s (need at least 0.13.1)\" % sklearn.__version__)"
   ]
  },
  {
   "cell_type": "markdown",
   "id": "19bfbbec",
   "metadata": {},
   "source": [
    "### Working in a group?\n",
    "List the names of other students with whom you worked on this problem set:\n",
    "- *Person 1*\n",
    "- *Person 2*\n",
    "- ..."
   ]
  },
  {
   "cell_type": "markdown",
   "id": "4c14f107",
   "metadata": {},
   "source": [
    "---\n",
    "\n",
    "## Introduction to the assignment\n",
    "\n",
    "For this assignment, you will be using the [California Housing Prices Dataset](https://scikit-learn.org/stable/datasets/real_world.html#california-housing-dataset).  Please read about the dataset carefully before continuing -- it is worth investing a few minutes up front otherwise you are likely to be hopelessly confused! We'll be coming back to this dataset repeatedly throughout the semester. Also, if you're new to analyzing data in Python, please make sure to read the relevant readings linked to on Canvas before beginning, otherwise you'll be stabbing in the dark.\n",
    "\n",
    "Use the following commands to load the dataset:"
   ]
  },
  {
   "cell_type": "code",
   "execution_count": null,
   "id": "dc7ac8fe",
   "metadata": {},
   "outputs": [],
   "source": [
    "from sklearn.datasets import fetch_california_housing\n",
    "cal_data = fetch_california_housing()"
   ]
  },
  {
   "cell_type": "markdown",
   "id": "976bfa38",
   "metadata": {},
   "source": [
    "The following commands will provide some basic information about the data:"
   ]
  },
  {
   "cell_type": "code",
   "execution_count": null,
   "id": "06660cbe",
   "metadata": {},
   "outputs": [],
   "source": [
    "print(cal_data.DESCR)\n",
    "print(cal_data.keys())\n",
    "print(cal_data.feature_names)\n",
    "print(cal_data.data.shape)\n",
    "print(cal_data.target.shape)"
   ]
  },
  {
   "cell_type": "markdown",
   "id": "62fb41e1",
   "metadata": {},
   "source": [
    "The following commands will put together the features and target into a pandas dataframe: "
   ]
  },
  {
   "cell_type": "code",
   "execution_count": null,
   "id": "b154df37",
   "metadata": {},
   "outputs": [],
   "source": [
    "cal_df = pd.DataFrame(\n",
    "    data=cal_data.data,\n",
    "    columns=cal_data.feature_names\n",
    ")\n",
    "cal_df['MedHouseVal'] = cal_data['target']"
   ]
  },
  {
   "cell_type": "markdown",
   "id": "c548bab0",
   "metadata": {},
   "source": [
    "---\n",
    "\n",
    "## Part 1: Descriptive analysis\n",
    "\n",
    "### 1.1: Explore the data\n",
    "\n",
    "Let's dig into the data a bit to see what we're dealing with. The first thing to do is to make sure you understand how the data is organized, what the data types are, whether there is any missing data, and so forth. Get your bearings on your own, then answer the following questions.\n",
    "\n",
    " - 1.1.1: How many different variables are there in the dataset, and how many different observations?\n",
    " - 1.1.2: What is the datatype of each variable?\n",
    " - 1.1.3: Does the dataset contain any missing values?\n",
    " - 1.1.4: How would you interpret the row index value?"
   ]
  },
  {
   "cell_type": "code",
   "execution_count": null,
   "id": "72a4a250",
   "metadata": {},
   "outputs": [],
   "source": [
    "# Your code here"
   ]
  },
  {
   "cell_type": "markdown",
   "id": "bba7d7b7",
   "metadata": {},
   "source": [
    "*Provide your answers below:*\n",
    "\n",
    " - 1.1.1: *Replace with your answer*\n",
    " - 1.1.2:\n",
    " - 1.1.3:\n",
    " - 1.1.4:"
   ]
  },
  {
   "cell_type": "markdown",
   "id": "9bc2f333",
   "metadata": {},
   "source": [
    "### 1.2: Answer some basic questions\n",
    " - 1.2.1: What is the average population per block group? What was California's total population in 1990 according to the Census?  \n",
    " - 1.2.2: What are the median house values in California's block groups with the lowest and highest populations? \n",
    " - 1.2.3: Suggest 5 block groups that are likely to be vacation resorts. Do a quick Google search to validate your results.\n",
    " - 1.2.4: How many census block groups are west of the city of Berkeley (lat: 37.871666, long: -122.272781)?\n",
    " - 1.2.5: What fraction of block groups have an average number of household members greater or equal to 10?"
   ]
  },
  {
   "cell_type": "code",
   "execution_count": null,
   "id": "bcab5f29",
   "metadata": {},
   "outputs": [],
   "source": [
    "# Your code here"
   ]
  },
  {
   "cell_type": "markdown",
   "id": "9c6d05f0",
   "metadata": {},
   "source": [
    "*Provide your answers below:*\n",
    "\n",
    " - 1.2.1: *Replace with your answer*\n",
    " - 1.2.2:\n",
    " - 1.2.3:\n",
    " - 1.2.4:\n",
    " - 1.2.5:"
   ]
  },
  {
   "cell_type": "markdown",
   "id": "d8cc2ec1",
   "metadata": {},
   "source": [
    "### 1.3: Summary statistics\n",
    "\n",
    "Create a clean, organized table that shows just the following information (no more, no less) for each variable in the dataset. Note that your table should have K rows (one for each variable) and 7 columns, ordered as below:\n",
    " - The name of the variable\n",
    " - The number of observations with non-missing values\n",
    " - The mean of the variable\n",
    " - The standard deviation of the variable\n",
    " - The minimum value of the variable\n",
    " - The median of the variable\n",
    " - The maximum value of the variable"
   ]
  },
  {
   "cell_type": "code",
   "execution_count": null,
   "id": "6bf7d3b3",
   "metadata": {},
   "outputs": [],
   "source": [
    "# enter your code here"
   ]
  },
  {
   "cell_type": "markdown",
   "id": "2d2f1cae",
   "metadata": {},
   "source": [
    "### 1.4 Simple Linear Regression\n",
    "\n",
    "Estimate a linear regression of the median house value (the dependent variable) on the population (the independent variable), with no other control variables. Interpret the coefficients and standard errors. Based on this analysis, can you conclude anything about the causal effect of decreasing the population on the median housing value?"
   ]
  },
  {
   "cell_type": "markdown",
   "id": "52d21ef3",
   "metadata": {},
   "source": [
    "*Write your response here.*"
   ]
  },
  {
   "cell_type": "markdown",
   "id": "7b715288",
   "metadata": {},
   "source": [
    "---\n",
    "\n",
    "## Part 2: Histograms and Scatterplots\n",
    "\n",
    "\n",
    "### 2.1: Histogram of housing prices\n",
    "\n",
    "Below you will find some very basic code to make a very basic histogram of median housing prices (the \"target\" variable) for your dataset.  Your first task is to make this graph look pretty by doing the following:\n",
    "\n",
    "1. Add appropriate labels to the x and y axes, make sure to include units\n",
    "2. Change the bin width on the histogram to be $5,000\n",
    "3. Remove the axes on the top and right side of the plot window\n",
    "4. Change the color of the bars to be green\n",
    "5. Add an appropriate title"
   ]
  },
  {
   "cell_type": "code",
   "execution_count": null,
   "id": "ff073571",
   "metadata": {},
   "outputs": [],
   "source": [
    "# prepare IPython to work with matplotlib and import the library to something convenient\n",
    "# %matplotlib inline  \n",
    "import matplotlib.pyplot as plt  \n",
    "\n",
    "# edit the code below to make the graph look good\n",
    "plt.hist(cal_df['MedHouseVal'])"
   ]
  },
  {
   "cell_type": "markdown",
   "id": "1e2e33ec",
   "metadata": {},
   "source": [
    "### 2.2: Histogram of average occupancy\n",
    "\n",
    "Now use your histograming skills to create a fine looking histogram of the average number of household members (\"AveOccup\"). In the same figure, plot the mean and median values of this variable. (Hint: applying a very common transformation to the data might make things easier).\n"
   ]
  },
  {
   "cell_type": "code",
   "execution_count": null,
   "id": "b9a9a7b8",
   "metadata": {},
   "outputs": [],
   "source": [
    "# enter your code here"
   ]
  },
  {
   "cell_type": "markdown",
   "id": "c21caeb7",
   "metadata": {},
   "source": [
    "### 2.3: Scatter plot of housing prices and population\n",
    "\n",
    "Use matplotlib to create a scatter plot that shows the relationship between the block group median house value (y-axis) and the block group population (x-axis). Properly label your axes, and make sure that your graphic looks polished and professional."
   ]
  },
  {
   "cell_type": "code",
   "execution_count": null,
   "id": "016b6dfa",
   "metadata": {},
   "outputs": [],
   "source": [
    "# enter your code here"
   ]
  },
  {
   "cell_type": "markdown",
   "id": "b425554d",
   "metadata": {},
   "source": [
    "### 2.4: Interpret\n",
    "\n",
    "What do you observe in the above scatter plot? Does there appear to be a relationship between media house value and population in California? Calculate the correlation between these two variables. Do you think this relationship is causal, or just a correlation? Justify your position and compare to your answer in section 1.4."
   ]
  },
  {
   "cell_type": "code",
   "execution_count": null,
   "id": "9c8e6339",
   "metadata": {},
   "outputs": [],
   "source": [
    "# enter your code here"
   ]
  },
  {
   "cell_type": "markdown",
   "id": "f2f2b32c",
   "metadata": {},
   "source": [
    "*Write your thoughts here (1-2 paragraphs).*"
   ]
  },
  {
   "cell_type": "markdown",
   "id": "a0ccaadb",
   "metadata": {},
   "source": [
    "### 2.5 Correlation Matrix\n",
    "\n",
    "Calculate the correlation of every pair of variables in the dataset. Create a *K* x *K* matrix where the value in the (*i*,*j*) cell is the correlation between the *i*th and *j*th variable. Show off your skills by coloring the cell so that large positive correlations appear green and large negative correlations appear red (use a gradient to make this pretty). What two variables appear to me most positively and negatively correlated? Explain these results."
   ]
  },
  {
   "cell_type": "code",
   "execution_count": null,
   "id": "5ca908d8",
   "metadata": {},
   "outputs": [],
   "source": [
    "# enter your code here"
   ]
  },
  {
   "cell_type": "markdown",
   "id": "8e58e47a",
   "metadata": {},
   "source": [
    "*Write your response here.*"
   ]
  },
  {
   "cell_type": "markdown",
   "id": "8e9afa2e",
   "metadata": {},
   "source": [
    "### 2.6 Create your own (creative and effective) visualization\n",
    "\n",
    "Use another type of graph or chart to illustrate an interesting pattern in the data.  Be creative in your visualization, and make sure to produce a \"publication-quality\" graph.  Points will be given for useful and creative graphs; points will be deducted for confusing issues like unlabeled axes.  If you're new to data visualization, [this guide](http://pubs.aeaweb.org/doi/pdfplus/10.1257/jep.28.1.209) is a good place to start."
   ]
  },
  {
   "cell_type": "code",
   "execution_count": null,
   "id": "c3b407a7",
   "metadata": {},
   "outputs": [],
   "source": [
    "# enter your code here"
   ]
  }
 ],
 "metadata": {
  "jupytext": {
   "formats": "ipynb,py:light"
  },
  "kernelspec": {
   "display_name": "venv_aml",
   "language": "python",
   "name": "venv_aml"
  },
  "language_info": {
   "codemirror_mode": {
    "name": "ipython",
    "version": 3
   },
   "file_extension": ".py",
   "mimetype": "text/x-python",
   "name": "python",
   "nbconvert_exporter": "python",
   "pygments_lexer": "ipython3",
   "version": "3.7.2"
  }
 },
 "nbformat": 4,
 "nbformat_minor": 5
}
